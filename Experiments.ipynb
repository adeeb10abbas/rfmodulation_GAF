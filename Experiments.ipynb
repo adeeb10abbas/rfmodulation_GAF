{
 "cells": [
  {
   "cell_type": "code",
   "execution_count": 2,
   "metadata": {},
   "outputs": [
    {
     "name": "stdout",
     "output_type": "stream",
     "text": [
      "1000\n"
     ]
    },
    {
     "data": {
      "text/plain": [
       "220000"
      ]
     },
     "execution_count": 2,
     "metadata": {},
     "output_type": "execute_result"
    }
   ],
   "source": [
    "import pickle\n",
    "import numpy as np\n",
    "Xd = pickle.load(open(\"RML2016.10a_dict.pkl\",'rb'), encoding='latin1')\n",
    "print(len(Xd[list(Xd.keys())[0]]))\n",
    "snrs,mods = map(lambda j: sorted(list(set(map(lambda x: x[j], Xd.keys())))), [1,0])\n",
    "X = []  \n",
    "lbl = []\n",
    "for mod in mods:\n",
    "    for snr in snrs:\n",
    "        X.append(Xd[(mod,snr)])\n",
    "        for i in range(Xd[(mod,snr)].shape[0]):  lbl.append((mod,snr))\n",
    "X = np.vstack(X)\n",
    "#we have labels for each one of them woowoo\n",
    "#mods are all the classes are 11\n",
    "X.shape\n",
    "len(list(lbl))"
   ]
  },
  {
   "cell_type": "code",
   "execution_count": 3,
   "metadata": {},
   "outputs": [
    {
     "data": {
      "text/plain": [
       "(110000, 2, 128)"
      ]
     },
     "execution_count": 3,
     "metadata": {},
     "output_type": "execute_result"
    }
   ],
   "source": [
    "np.random.seed(2016)\n",
    "n_examples = X.shape[0]\n",
    "n_train = int(n_examples * 0.5) #half the dataset is for training\n",
    "train_idx = np.random.choice(range(0,n_examples), size=n_train, replace=False) \n",
    "#\"replace\" makes sure that everything is unique\n",
    "test_idx = list(set(range(0,n_examples))-set(train_idx))\n",
    "X_train = X[train_idx]\n",
    "X_test =  X[test_idx]\n",
    "X_train.shape"
   ]
  },
  {
   "cell_type": "code",
   "execution_count": 4,
   "metadata": {},
   "outputs": [],
   "source": [
    "def to_onehot(yy):\n",
    "    yy1 = np.zeros([len(list(yy)), max(list(yy))+1])\n",
    "    yy1[np.arange(len(list(yy))),yy] = 1\n",
    "    return yy1\n",
    "# Y_train = to_onehot(map(lambda x: mods.index(lbl[x][0]), train_idx))\n",
    "Y_test_ = map(lambda x: mods.index(lbl[x][0]), test_idx)\n",
    "Y_train_ = map(lambda x: mods.index(lbl[x][0]), train_idx)\n",
    "j = 0\n",
    "Y_train_list = list()\n",
    "Y_test_list = list()\n",
    "for i in Y_train_:\n",
    "    Y_train_list.append(i)\n",
    "for i in Y_test_:\n",
    "    Y_test_list.append(j)\n",
    "    \n",
    "Y_train = to_onehot(Y_train_list)\n",
    "Y_test = to_onehot(Y_test_list)\n",
    "# Y_test is 11k\n",
    "# Y_train is also 11k wondering why? look the second cell from top\n"
   ]
  },
  {
   "cell_type": "code",
   "execution_count": 5,
   "metadata": {},
   "outputs": [
    {
     "name": "stdout",
     "output_type": "stream",
     "text": [
      "(110000, 2, 128) [2, 128]\n"
     ]
    },
    {
     "data": {
      "text/plain": [
       "11"
      ]
     },
     "execution_count": 5,
     "metadata": {},
     "output_type": "execute_result"
    }
   ],
   "source": [
    "in_shp = list(X_train.shape[1:])\n",
    "print (X_train.shape, in_shp)\n",
    "classes = mods\n",
    "len(classes)"
   ]
  },
  {
   "cell_type": "code",
   "execution_count": 6,
   "metadata": {},
   "outputs": [],
   "source": [
    "%matplotlib inline\n",
    "from fastai import *\n",
    "from fastai.vision import *\n"
   ]
  },
  {
   "cell_type": "code",
   "execution_count": 20,
   "metadata": {},
   "outputs": [
    {
     "data": {
      "image/png": "[encoded data removed]",
      "text/plain": [
       "<Figure size 1152x576 with 2 Axes>"
      ]
     },
     "metadata": {
      "needs_background": "light"
     },
     "output_type": "display_data"
    }
   ],
   "source": [
    "# Trying to plot the graphs... lets see what happens\n",
    "import numpy as np\n",
    "import matplotlib.pyplot as plt\n",
    "from pyts.image import GASF, GADF\n",
    "\n",
    "t = []\n",
    "for i in range(128):\n",
    "    t.append(i)\n",
    "signals = X\n",
    "for j in range(150000, 150001): #len(X) == 220000\n",
    "    #print('Signal Example', j + 1)\n",
    "    wave_type = lbl[j][0]\n",
    "#     first = signals[j][:][0]\n",
    "#     second = signals[j][:][1]\n",
    "    values = signals[j][:]\n",
    "    image_size = 24\n",
    "    gasf = GASF(image_size)\n",
    "    X_gasf = gasf.fit_transform(values)\n",
    "    gadf = GADF(image_size)\n",
    "    X_gadf = gadf.fit_transform(values)\n",
    "    plt.figure(figsize=(16, 8))\n",
    "    plt.subplot(121)\n",
    "    plt.imshow(X_gasf[0], cmap='rainbow', origin='lower')\n",
    "    plt.title(\"%s - GASF\"%wave_type, fontsize=16)\n",
    "    plt.subplot(122)\n",
    "    plt.imshow(X_gadf[0], cmap='rainbow', origin='lower')\n",
    "    plt.title(\"%s - GADF\"%wave_type, fontsize=16)\n",
    "    plt.show()\n",
    "#     plt.plot(t, first/second)\n",
    "# #     plt.plot(t, second)\n",
    "#     wave_type = lbl[j][0] #Dumbass of course it stops after a while you only have a certain \n",
    "    #as it is not what you thought it was. We need a class for all of them\n",
    "#     title = wave_type\n",
    "#     plt.title(title)\n",
    "#     xmax = 128\n",
    "#     ymax = max([max(first),max(second)])\n",
    "# #     plt.xticks([])\n",
    "# #     plt.yticks([])\n",
    "#     plt.show()\n",
    "\n",
    "\n",
    "\n",
    "    "
   ]
  },
  {
   "cell_type": "code",
   "execution_count": 21,
   "metadata": {},
   "outputs": [
    {
     "name": "stdout",
     "output_type": "stream",
     "text": [
      "Downloading http://files.fast.ai/data/examples/mnist_tiny\n"
     ]
    },
    {
     "data": {
      "text/html": [],
      "text/plain": [
       "<IPython.core.display.HTML object>"
      ]
     },
     "metadata": {},
     "output_type": "display_data"
    }
   ],
   "source": [
    ""
   ]
  },
  {
   "cell_type": "code",
   "execution_count": 22,
   "metadata": {},
   "outputs": [
    {
     "name": "stdout",
     "output_type": "stream",
     "text": [
      "Experiments.ipynb  LICENSE.TXT\tplot_gaf.ipynb\tpyts  RML2016.10a_dict.pkl\n"
     ]
    }
   ],
   "source": []
  },
  {
   "cell_type": "code",
   "execution_count": null,
   "metadata": {},
   "outputs": [],
   "source": []
  }
 ],
 "metadata": {
  "kernelspec": {
   "display_name": "Python 3",
   "language": "python",
   "name": "python3"
  },
  "language_info": {
   "codemirror_mode": {
    "name": "ipython",
    "version": 3
   },
   "file_extension": ".py",
   "mimetype": "text/x-python",
   "name": "python",
   "nbconvert_exporter": "python",
   "pygments_lexer": "ipython3",
   "version": "3.7.6"
  }
 },
 "nbformat": 4,
 "nbformat_minor": 4
}
