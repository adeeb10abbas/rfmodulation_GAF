{
 "cells": [
  {
   "cell_type": "code",
   "execution_count": 1,
   "metadata": {},
   "outputs": [
    {
     "name": "stdout",
     "output_type": "stream",
     "text": [
      "1000\n"
     ]
    },
    {
     "data": {
      "text/plain": [
       "['8PSK',\n",
       " 'AM-DSB',\n",
       " 'AM-SSB',\n",
       " 'BPSK',\n",
       " 'CPFSK',\n",
       " 'GFSK',\n",
       " 'PAM4',\n",
       " 'QAM16',\n",
       " 'QAM64',\n",
       " 'QPSK',\n",
       " 'WBFM']"
      ]
     },
     "execution_count": 1,
     "metadata": {},
     "output_type": "execute_result"
    }
   ],
   "source": [
    "import pickle\n",
    "import numpy as np\n",
    "Xd = pickle.load(open(\"RML2016.10a_dict.pkl\",'rb'), encoding='latin1')\n",
    "print(len(Xd[list(Xd.keys())[0]]))\n",
    "snrs,mods = map(lambda j: sorted(list(set(map(lambda x: x[j], Xd.keys())))), [1,0])\n",
    "X = []  \n",
    "lbl = []\n",
    "for mod in mods:\n",
    "    for snr in snrs:\n",
    "        X.append(Xd[(mod,snr)])\n",
    "        for i in range(Xd[(mod,snr)].shape[0]):  lbl.append((mod,snr))\n",
    "X = np.vstack(X)\n",
    "#we have labels for each one of them woowoo\n",
    "#mods are all the classes are 11\n",
    "X.shape\n",
    "len(list(lbl))\n",
    "mods"
   ]
  },
  {
   "cell_type": "code",
   "execution_count": 3,
   "metadata": {},
   "outputs": [
    {
     "data": {
      "text/plain": [
       "(110000, 2, 128)"
      ]
     },
     "execution_count": 3,
     "metadata": {},
     "output_type": "execute_result"
    }
   ],
   "source": [
    "np.random.seed(2016)\n",
    "n_examples = X.shape[0]\n",
    "n_train = int(n_examples * 0.5) #half the dataset is for training\n",
    "train_idx = np.random.choice(range(0,n_examples), size=n_train, replace=False) \n",
    "#\"replace\" makes sure that everything is unique\n",
    "test_idx = list(set(range(0,n_examples))-set(train_idx))\n",
    "X_train = X[train_idx]\n",
    "X_test =  X[test_idx]\n",
    "X_train.shape"
   ]
  },
  {
   "cell_type": "code",
   "execution_count": 4,
   "metadata": {},
   "outputs": [],
   "source": [
    "def to_onehot(yy):\n",
    "    yy1 = np.zeros([len(list(yy)), max(list(yy))+1])\n",
    "    yy1[np.arange(len(list(yy))),yy] = 1\n",
    "    return yy1\n",
    "# Y_train = to_onehot(map(lambda x: mods.index(lbl[x][0]), train_idx))\n",
    "Y_test_ = map(lambda x: mods.index(lbl[x][0]), test_idx)\n",
    "Y_train_ = map(lambda x: mods.index(lbl[x][0]), train_idx)\n",
    "j = 0\n",
    "Y_train_list = list()\n",
    "Y_test_list = list()\n",
    "for i in Y_train_:\n",
    "    Y_train_list.append(i)\n",
    "for i in Y_test_:\n",
    "    Y_test_list.append(j)\n",
    "    \n",
    "Y_train = to_onehot(Y_train_list)\n",
    "Y_test = to_onehot(Y_test_list)\n",
    "# Y_test is 11k\n",
    "# Y_train is also 11k wondering why? look the second cell from top\n"
   ]
  },
  {
   "cell_type": "code",
   "execution_count": 5,
   "metadata": {},
   "outputs": [
    {
     "name": "stdout",
     "output_type": "stream",
     "text": [
      "(110000, 2, 128) [2, 128]\n"
     ]
    },
    {
     "data": {
      "text/plain": [
       "11"
      ]
     },
     "execution_count": 5,
     "metadata": {},
     "output_type": "execute_result"
    }
   ],
   "source": [
    "in_shp = list(X_train.shape[1:])\n",
    "print (X_train.shape, in_shp)\n",
    "classes = mods\n",
    "len(classes)"
   ]
  },
  {
   "cell_type": "code",
   "execution_count": 5,
   "metadata": {},
   "outputs": [],
   "source": [
    "\n",
    "# for i in classes:\n",
    "#     path = os.path.join(os.getcwd())\n",
    "#     os.makedirs(\"%s/dataset_gaf/%s\"%(path, i))"
   ]
  },
  {
   "cell_type": "code",
   "execution_count": null,
   "metadata": {},
   "outputs": [
    {
     "name": "stderr",
     "output_type": "stream",
     "text": [
      "  0%|          | 0/44 [00:00<?, ?it/s]"
     ]
    },
    {
     "name": "stdout",
     "output_type": "stream",
     "text": [
      "Mission has started\n"
     ]
    },
    {
     "name": "stderr",
     "output_type": "stream",
     "text": [
      "  2%|▏         | 1/44 [1:11:40<51:21:59, 4300.46s/it]"
     ]
    },
    {
     "name": "stdout",
     "output_type": "stream",
     "text": [
      "Epoch number - GASF dataset 0 | Percentage done- 0\n",
      "\n",
      "15000\n"
     ]
    }
   ],
   "source": [
    "# Trying to plot the graphs... lets see what happens\n",
    "#creating all the different data categories\n",
    "%matplotlib inline\n",
    "from fastai import *\n",
    "from fastai.vision import *\n",
    "from tqdm import tqdm\n",
    "import numpy as np\n",
    "import matplotlib.pyplot as plt\n",
    "from pyts.image import GASF, GADF\n",
    "import os\n",
    "\n",
    "path = os.path.join(os.getcwd())\n",
    "# t = []\n",
    "# for i in range(128):\n",
    "#     t.append(i)\n",
    "signals = X\n",
    "import gc\n",
    "#we need a function to keep adding images to the specific \n",
    "def dataset_creator(start, epoch_len, lbl, X):\n",
    "    for j in range(start, epoch_len):#len(X))): #len(X) == 220000\n",
    "        wave_type = lbl[j][0]\n",
    "    #     first = signals[j][:][0]\n",
    "    #     second = signals[j][:][1]\n",
    "        values = signals[j][:]\n",
    "        image_size = 36\n",
    "        gasf = GASF(image_size)\n",
    "        X_gasf = gasf.fit_transform(values)\n",
    "        gadf = GADF(image_size)\n",
    "        X_gadf = gadf.fit_transform(values)\n",
    "        plt.figure(figsize=(12, 12))\n",
    "        plt.xticks([])\n",
    "        plt.yticks([])\n",
    "        plt.tight_layout()\n",
    "        wave_id = \"%s_%d\"%(wave_type, j) \n",
    "        fig = plt.imshow(X_gasf[0], cmap='rainbow', origin='lower')\n",
    "        fig.figure.savefig(\"%s/dataset_gaf/%s/GASF/%s.png\"%(path, lbl[j][0], wave_id), bbox_inches = 'tight')\n",
    "        plt.close()\n",
    "        gc.collect()\n",
    "        \n",
    "\n",
    "def main():\n",
    "    #we need to go through 36\n",
    "    start = 0\n",
    "    epoch_len = 5000\n",
    "    print(\"Mission has started\")\n",
    "    for i in tqdm(range(44)):\n",
    "        done = (i/44)*100\n",
    "        dataset_creator(start, epoch_len+1,lbl, X)\n",
    "        start += 5000\n",
    "        epoch_len += start+5000\n",
    "        gc.collect()\n",
    "        print(\"Epoch number - GASF dataset %d | Percentage done- %d\"%(i, done))\n",
    "        print(\"\")\n",
    "        print(epoch_len)\n",
    "        \n",
    "main()\n",
    "        \n",
    "\n",
    "\n",
    "    "
   ]
  },
  {
   "cell_type": "code",
   "execution_count": null,
   "metadata": {},
   "outputs": [],
   "source": [
    "    #plt.title(\"%s - GASF\"%wave_type, fontsize=16)\n",
    "#     plt.subplot(122)\n",
    "#     plt.imshow(X_gadf[0], cmap='rainbow', origin='lower')\n",
    "#     plt.title(\"%s - GADF\"%wave_type, fontsize=16)\n",
    "#     plt.show()\n",
    "\n",
    "\n",
    "\n",
    "    #path = os.path.join(os.getcwd(), wave_type)\n",
    "#   os.makedirs(path)\n",
    "\n",
    "#     plt.plot(t, first/second)\n",
    "#     plt.plot(t, second)\n",
    "#     wave_type = lbl[j][0] #Dumbass of course it stops after a while you only have a certain \n",
    "#     as it is not what you thought it was. We need a class for all of them\n",
    "#     title = wave_type\n",
    "#     plt.title(title)\n",
    "#     xmax = 128\n",
    "#     ymax = max([max(first),max(second)])\n",
    "#     plt.xticks([])\n",
    "#     plt.yticks([])\n",
    "#     plt.show()\n",
    "        #plt.imshow(X_gadf[0], cmap='rainbow', origin='lower')\n",
    "        #plt.savefig(\"%s/dataset_gaf/%s/GADF/%s.png\"%(path, lbl[j][0], wave_id), bbox_inches = 'tight') \n",
    "    #     plt.close()"
   ]
  },
  {
   "cell_type": "code",
   "execution_count": null,
   "metadata": {},
   "outputs": [],
   "source": []
  },
  {
   "cell_type": "code",
   "execution_count": null,
   "metadata": {},
   "outputs": [],
   "source": []
  },
  {
   "cell_type": "code",
   "execution_count": null,
   "metadata": {},
   "outputs": [],
   "source": []
  }
 ],
 "metadata": {
  "kernelspec": {
   "display_name": "Python 3",
   "language": "python",
   "name": "python3"
  },
  "language_info": {
   "codemirror_mode": {
    "name": "ipython",
    "version": 3
   },
   "file_extension": ".py",
   "mimetype": "text/x-python",
   "name": "python",
   "nbconvert_exporter": "python",
   "pygments_lexer": "ipython3",
   "version": "3.7.6"
  }
 },
 "nbformat": 4,
 "nbformat_minor": 4
}
